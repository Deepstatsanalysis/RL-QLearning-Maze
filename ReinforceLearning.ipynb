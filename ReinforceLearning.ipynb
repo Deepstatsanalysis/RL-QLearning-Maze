{
 "cells": [
  {
   "cell_type": "markdown",
   "metadata": {},
   "source": [
    "# Config"
   ]
  },
  {
   "cell_type": "code",
   "execution_count": 1,
   "metadata": {},
   "outputs": [],
   "source": [
    "import pandas as pd\n",
    "import numpy as np\n",
    "import time\n",
    "\n",
    "ACTIONS     = ['up', 'down', 'left', 'right']\n",
    "LENGTH      = None\n",
    "N_STATES    = None\n",
    "START       = None\n",
    "HOLE        = None\n",
    "TERMINAL    = None\n",
    "EPSILON     = None\n",
    "MAX_EPISODE = None\n",
    "LAMBDA      = None\n",
    "ALPHA       = None\n",
    "FIRST       = True"
   ]
  },
  {
   "cell_type": "markdown",
   "metadata": {},
   "source": [
    "# Initial Q-Table"
   ]
  },
  {
   "cell_type": "code",
   "execution_count": 2,
   "metadata": {},
   "outputs": [
    {
     "name": "stdout",
     "output_type": "stream",
     "text": [
      "Empty DataFrame\n",
      "Columns: [up, down, left, right]\n",
      "Index: []\n"
     ]
    },
    {
     "data": {
      "text/html": [
       "<div>\n",
       "<style scoped>\n",
       "    .dataframe tbody tr th:only-of-type {\n",
       "        vertical-align: middle;\n",
       "    }\n",
       "\n",
       "    .dataframe tbody tr th {\n",
       "        vertical-align: top;\n",
       "    }\n",
       "\n",
       "    .dataframe thead th {\n",
       "        text-align: right;\n",
       "    }\n",
       "</style>\n",
       "<table border=\"1\" class=\"dataframe\">\n",
       "  <thead>\n",
       "    <tr style=\"text-align: right;\">\n",
       "      <th></th>\n",
       "      <th>up</th>\n",
       "      <th>down</th>\n",
       "      <th>left</th>\n",
       "      <th>right</th>\n",
       "    </tr>\n",
       "  </thead>\n",
       "  <tbody>\n",
       "  </tbody>\n",
       "</table>\n",
       "</div>"
      ],
      "text/plain": [
       "Empty DataFrame\n",
       "Columns: [up, down, left, right]\n",
       "Index: []"
      ]
     },
     "execution_count": 2,
     "metadata": {},
     "output_type": "execute_result"
    }
   ],
   "source": [
    "def build_q_table():\n",
    "    global N_STATES\n",
    "    global ACTIONS\n",
    "    table = pd.DataFrame(\n",
    "        np.zeros((N_STATES, len(ACTIONS))),\n",
    "        columns=ACTIONS\n",
    "    )\n",
    "    print(table)\n",
    "    return table\n",
    "\n",
    "# build_q_table()"
   ]
  },
  {
   "cell_type": "markdown",
   "metadata": {},
   "source": [
    "# Actor\n",
    "- ε-Greedy"
   ]
  },
  {
   "cell_type": "code",
   "execution_count": 3,
   "metadata": {},
   "outputs": [
    {
     "name": "stdout",
     "output_type": "stream",
     "text": [
      "Empty DataFrame\n",
      "Columns: [up, down, left, right]\n",
      "Index: []\n"
     ]
    },
    {
     "ename": "IndexError",
     "evalue": "single positional indexer is out-of-bounds",
     "output_type": "error",
     "traceback": [
      "\u001b[0;31m---------------------------------------------------------------------------\u001b[0m",
      "\u001b[0;31mIndexError\u001b[0m                                Traceback (most recent call last)",
      "\u001b[0;32m<ipython-input-3-d3b7c43ca15a>\u001b[0m in \u001b[0;36m<module>\u001b[0;34m()\u001b[0m\n\u001b[1;32m      7\u001b[0m     \u001b[0;32mreturn\u001b[0m \u001b[0mact\u001b[0m\u001b[0;34m\u001b[0m\u001b[0m\n\u001b[1;32m      8\u001b[0m \u001b[0;34m\u001b[0m\u001b[0m\n\u001b[0;32m----> 9\u001b[0;31m \u001b[0mactor\u001b[0m\u001b[0;34m(\u001b[0m\u001b[0;36m0\u001b[0m\u001b[0;34m,\u001b[0m \u001b[0mbuild_q_table\u001b[0m\u001b[0;34m(\u001b[0m\u001b[0;34m)\u001b[0m\u001b[0;34m)\u001b[0m\u001b[0;34m\u001b[0m\u001b[0m\n\u001b[0m",
      "\u001b[0;32m<ipython-input-3-d3b7c43ca15a>\u001b[0m in \u001b[0;36mactor\u001b[0;34m(state, q_table)\u001b[0m\n\u001b[1;32m      1\u001b[0m \u001b[0;32mdef\u001b[0m \u001b[0mactor\u001b[0m\u001b[0;34m(\u001b[0m\u001b[0mstate\u001b[0m\u001b[0;34m,\u001b[0m \u001b[0mq_table\u001b[0m\u001b[0;34m)\u001b[0m\u001b[0;34m:\u001b[0m\u001b[0;34m\u001b[0m\u001b[0m\n\u001b[0;32m----> 2\u001b[0;31m     \u001b[0mstate_act\u001b[0m \u001b[0;34m=\u001b[0m \u001b[0mq_table\u001b[0m\u001b[0;34m.\u001b[0m\u001b[0miloc\u001b[0m\u001b[0;34m[\u001b[0m\u001b[0mstate\u001b[0m\u001b[0;34m]\u001b[0m\u001b[0;34m\u001b[0m\u001b[0m\n\u001b[0m\u001b[1;32m      3\u001b[0m     \u001b[0;32mif\u001b[0m \u001b[0mnp\u001b[0m\u001b[0;34m.\u001b[0m\u001b[0mrandom\u001b[0m\u001b[0;34m.\u001b[0m\u001b[0muniform\u001b[0m\u001b[0;34m(\u001b[0m\u001b[0;34m)\u001b[0m \u001b[0;34m>\u001b[0m \u001b[0mEPSILON\u001b[0m \u001b[0;32mor\u001b[0m \u001b[0mstate_act\u001b[0m\u001b[0;34m.\u001b[0m\u001b[0mall\u001b[0m\u001b[0;34m(\u001b[0m\u001b[0;34m)\u001b[0m \u001b[0;34m==\u001b[0m \u001b[0;36m0\u001b[0m\u001b[0;34m:\u001b[0m\u001b[0;34m\u001b[0m\u001b[0m\n\u001b[1;32m      4\u001b[0m         \u001b[0mact\u001b[0m \u001b[0;34m=\u001b[0m \u001b[0mnp\u001b[0m\u001b[0;34m.\u001b[0m\u001b[0mrandom\u001b[0m\u001b[0;34m.\u001b[0m\u001b[0mchoice\u001b[0m\u001b[0;34m(\u001b[0m\u001b[0mACTIONS\u001b[0m\u001b[0;34m)\u001b[0m\u001b[0;34m\u001b[0m\u001b[0m\n\u001b[1;32m      5\u001b[0m     \u001b[0;32melse\u001b[0m\u001b[0;34m:\u001b[0m\u001b[0;34m\u001b[0m\u001b[0m\n",
      "\u001b[0;32m~/anaconda3/lib/python3.6/site-packages/pandas/core/indexing.py\u001b[0m in \u001b[0;36m__getitem__\u001b[0;34m(self, key)\u001b[0m\n\u001b[1;32m   1371\u001b[0m \u001b[0;34m\u001b[0m\u001b[0m\n\u001b[1;32m   1372\u001b[0m             \u001b[0mmaybe_callable\u001b[0m \u001b[0;34m=\u001b[0m \u001b[0mcom\u001b[0m\u001b[0;34m.\u001b[0m\u001b[0m_apply_if_callable\u001b[0m\u001b[0;34m(\u001b[0m\u001b[0mkey\u001b[0m\u001b[0;34m,\u001b[0m \u001b[0mself\u001b[0m\u001b[0;34m.\u001b[0m\u001b[0mobj\u001b[0m\u001b[0;34m)\u001b[0m\u001b[0;34m\u001b[0m\u001b[0m\n\u001b[0;32m-> 1373\u001b[0;31m             \u001b[0;32mreturn\u001b[0m \u001b[0mself\u001b[0m\u001b[0;34m.\u001b[0m\u001b[0m_getitem_axis\u001b[0m\u001b[0;34m(\u001b[0m\u001b[0mmaybe_callable\u001b[0m\u001b[0;34m,\u001b[0m \u001b[0maxis\u001b[0m\u001b[0;34m=\u001b[0m\u001b[0maxis\u001b[0m\u001b[0;34m)\u001b[0m\u001b[0;34m\u001b[0m\u001b[0m\n\u001b[0m\u001b[1;32m   1374\u001b[0m \u001b[0;34m\u001b[0m\u001b[0m\n\u001b[1;32m   1375\u001b[0m     \u001b[0;32mdef\u001b[0m \u001b[0m_is_scalar_access\u001b[0m\u001b[0;34m(\u001b[0m\u001b[0mself\u001b[0m\u001b[0;34m,\u001b[0m \u001b[0mkey\u001b[0m\u001b[0;34m)\u001b[0m\u001b[0;34m:\u001b[0m\u001b[0;34m\u001b[0m\u001b[0m\n",
      "\u001b[0;32m~/anaconda3/lib/python3.6/site-packages/pandas/core/indexing.py\u001b[0m in \u001b[0;36m_getitem_axis\u001b[0;34m(self, key, axis)\u001b[0m\n\u001b[1;32m   1828\u001b[0m \u001b[0;34m\u001b[0m\u001b[0m\n\u001b[1;32m   1829\u001b[0m             \u001b[0;31m# validate the location\u001b[0m\u001b[0;34m\u001b[0m\u001b[0;34m\u001b[0m\u001b[0m\n\u001b[0;32m-> 1830\u001b[0;31m             \u001b[0mself\u001b[0m\u001b[0;34m.\u001b[0m\u001b[0m_is_valid_integer\u001b[0m\u001b[0;34m(\u001b[0m\u001b[0mkey\u001b[0m\u001b[0;34m,\u001b[0m \u001b[0maxis\u001b[0m\u001b[0;34m)\u001b[0m\u001b[0;34m\u001b[0m\u001b[0m\n\u001b[0m\u001b[1;32m   1831\u001b[0m \u001b[0;34m\u001b[0m\u001b[0m\n\u001b[1;32m   1832\u001b[0m             \u001b[0;32mreturn\u001b[0m \u001b[0mself\u001b[0m\u001b[0;34m.\u001b[0m\u001b[0m_get_loc\u001b[0m\u001b[0;34m(\u001b[0m\u001b[0mkey\u001b[0m\u001b[0;34m,\u001b[0m \u001b[0maxis\u001b[0m\u001b[0;34m=\u001b[0m\u001b[0maxis\u001b[0m\u001b[0;34m)\u001b[0m\u001b[0;34m\u001b[0m\u001b[0m\n",
      "\u001b[0;32m~/anaconda3/lib/python3.6/site-packages/pandas/core/indexing.py\u001b[0m in \u001b[0;36m_is_valid_integer\u001b[0;34m(self, key, axis)\u001b[0m\n\u001b[1;32m   1711\u001b[0m         \u001b[0ml\u001b[0m \u001b[0;34m=\u001b[0m \u001b[0mlen\u001b[0m\u001b[0;34m(\u001b[0m\u001b[0max\u001b[0m\u001b[0;34m)\u001b[0m\u001b[0;34m\u001b[0m\u001b[0m\n\u001b[1;32m   1712\u001b[0m         \u001b[0;32mif\u001b[0m \u001b[0mkey\u001b[0m \u001b[0;34m>=\u001b[0m \u001b[0ml\u001b[0m \u001b[0;32mor\u001b[0m \u001b[0mkey\u001b[0m \u001b[0;34m<\u001b[0m \u001b[0;34m-\u001b[0m\u001b[0ml\u001b[0m\u001b[0;34m:\u001b[0m\u001b[0;34m\u001b[0m\u001b[0m\n\u001b[0;32m-> 1713\u001b[0;31m             \u001b[0;32mraise\u001b[0m \u001b[0mIndexError\u001b[0m\u001b[0;34m(\u001b[0m\u001b[0;34m\"single positional indexer is out-of-bounds\"\u001b[0m\u001b[0;34m)\u001b[0m\u001b[0;34m\u001b[0m\u001b[0m\n\u001b[0m\u001b[1;32m   1714\u001b[0m         \u001b[0;32mreturn\u001b[0m \u001b[0;32mTrue\u001b[0m\u001b[0;34m\u001b[0m\u001b[0m\n\u001b[1;32m   1715\u001b[0m \u001b[0;34m\u001b[0m\u001b[0m\n",
      "\u001b[0;31mIndexError\u001b[0m: single positional indexer is out-of-bounds"
     ]
    }
   ],
   "source": [
    "def actor(state, q_table):\n",
    "    state_act = q_table.iloc[state]\n",
    "    if np.random.uniform() > EPSILON or state_act.all() == 0:\n",
    "        act = np.random.choice(ACTIONS)\n",
    "    else:\n",
    "        act = state_act.argmax()\n",
    "    return act\n",
    "\n",
    "# actor(0, build_q_table())"
   ]
  },
  {
   "cell_type": "markdown",
   "metadata": {},
   "source": [
    "# Enviroment Visual"
   ]
  },
  {
   "cell_type": "code",
   "execution_count": null,
   "metadata": {},
   "outputs": [],
   "source": [
    "def update_env(state, episode, step):\n",
    "    view = np.array([['_ '] * LENGTH] * LENGTH)\n",
    "    view[tuple(TERMINAL)] = '* '\n",
    "    view[HOLE] = 'X '\n",
    "    view[tuple(state)] = 'o '\n",
    "    interaction = ''\n",
    "    for v in view:\n",
    "        interaction += ''.join(v) + '\\n'\n",
    "    message = 'EPISODE: {}, STEP: {}'.format(episode, step) \n",
    "    interaction += message\n",
    "    if state == TERMINAL:\n",
    "        print(interaction)\n",
    "#         time.sleep(.1)\n",
    "    else:\n",
    "        print(interaction)\n",
    "#         time.sleep(.1)\n",
    "        \n",
    "# for i in range(12):\n",
    "#     update_env([int(i / 4), i % 4], 1, i)"
   ]
  },
  {
   "cell_type": "markdown",
   "metadata": {},
   "source": [
    "# Enviroment Feedback"
   ]
  },
  {
   "cell_type": "code",
   "execution_count": null,
   "metadata": {},
   "outputs": [],
   "source": [
    "def init_env():\n",
    "    global HOLE\n",
    "    global FIRST\n",
    "    global START\n",
    "    global TERMINAL\n",
    "    start = START\n",
    "    if FIRST:\n",
    "        f = lambda: np.random.choice(range(LENGTH))\n",
    "        hole = f(), f()\n",
    "        while hole == START and hole == TERMINAL:\n",
    "            hole = f(), f()\n",
    "        HOLE = hole\n",
    "        FIRST = False\n",
    "    return start, False\n",
    "\n",
    "def get_env_feedback(state, action):\n",
    "    reward = 0.\n",
    "    end = False\n",
    "    a, b = state\n",
    "    if action == 'up':\n",
    "        a -= 1\n",
    "        if a < 0:\n",
    "            a = 0\n",
    "        next_state = (a, b)\n",
    "        if next_state == TERMINAL:\n",
    "            reward = 1.\n",
    "            end = True\n",
    "        elif next_state == HOLE:\n",
    "            reward = -1.\n",
    "            end = True\n",
    "    elif action == 'down':\n",
    "        a += 1\n",
    "        if a >= LENGTH:\n",
    "            a = LENGTH - 1\n",
    "        next_state = (a, b)\n",
    "        if next_state == HOLE:\n",
    "            reward = -1.\n",
    "            end = True\n",
    "    elif action == 'left':\n",
    "        b -= 1\n",
    "        if b < 0:\n",
    "            b = 0\n",
    "        next_state = (a, b)\n",
    "        if next_state == HOLE:\n",
    "            reward = -1.\n",
    "            end = True\n",
    "    elif action == 'right':\n",
    "        b += 1\n",
    "        if b >= LENGTH:\n",
    "            b = LENGTH - 1\n",
    "        next_state = (a, b)\n",
    "        if next_state == TERMINAL:\n",
    "            reward = 1.\n",
    "            end = True\n",
    "        elif next_state == HOLE:\n",
    "            reward = -1.\n",
    "            end = True\n",
    "    return next_state, reward, end\n"
   ]
  },
  {
   "cell_type": "markdown",
   "metadata": {},
   "source": [
    "# Run Game"
   ]
  },
  {
   "cell_type": "code",
   "execution_count": null,
   "metadata": {},
   "outputs": [],
   "source": [
    "def run():\n",
    "    q_table = build_q_table()\n",
    "    episode = 0\n",
    "    while episode < MAX_EPISODE:\n",
    "        state, end = init_env()\n",
    "        step = 0\n",
    "        update_env(state, episode, step)\n",
    "        while not end:\n",
    "            a, b = state\n",
    "            act = actor(a * LENGTH + b, q_table)\n",
    "            print(act)\n",
    "            next_state, reward, end = get_env_feedback(state, act)\n",
    "            na, nb = next_state\n",
    "            q_predict = q_table.ix[a * LENGTH + b, act]\n",
    "            if next_state != TERMINAL:\n",
    "                q_target = reward + LAMBDA * q_table.iloc[na * LENGTH + nb].max()\n",
    "            else:\n",
    "                q_target = reward\n",
    "            q_table.ix[a * LENGTH + b, act] += ALPHA * (q_target - q_predict)\n",
    "            state = next_state\n",
    "            step += 1\n",
    "            update_env(state, episode, step)\n",
    "        print()\n",
    "        print(q_table)\n",
    "        print()\n",
    "        episode += 1\n",
    "    return q_table\n",
    "        "
   ]
  },
  {
   "cell_type": "markdown",
   "metadata": {},
   "source": [
    "# Main"
   ]
  },
  {
   "cell_type": "code",
   "execution_count": null,
   "metadata": {},
   "outputs": [],
   "source": [
    "if __name__ == '__main__':\n",
    "    import argparse\n",
    "\n",
    "    parser = argparse.ArgumentParser()\n",
    "    \n",
    "    parser.add_argument('-l',\n",
    "                        default='4',\n",
    "                        dest=\"LENGTH\",\n",
    "                        help='input the length of the grid')\n",
    "\n",
    "    parser.add_argument('-i',\n",
    "                        default='20',\n",
    "                        dest='ITERATION',\n",
    "                        help='input the iteration of training')\n",
    "    \n",
    "    parser.add_argument('-f',\n",
    "                        default='None',\n",
    "                        help='ipython')\n",
    "\n",
    "    args = parser.parse_args()\n",
    "    \n",
    "    LENGTH      = int(args.LENGTH)\n",
    "    N_STATES    = LENGTH * LENGTH\n",
    "    START       = (LENGTH - 1, 0)\n",
    "    TERMINAL    = (0, LENGTH - 1)\n",
    "    EPSILON     = .9\n",
    "    MAX_EPISODE = int(args.ITERATION)\n",
    "    LAMBDA      = .9\n",
    "    ALPHA       = .1\n",
    "\n",
    "    q_table = run()"
   ]
  }
 ],
 "metadata": {
  "kernelspec": {
   "display_name": "Python 3",
   "language": "python",
   "name": "python3"
  },
  "language_info": {
   "codemirror_mode": {
    "name": "ipython",
    "version": 3
   },
   "file_extension": ".py",
   "mimetype": "text/x-python",
   "name": "python",
   "nbconvert_exporter": "python",
   "pygments_lexer": "ipython3",
   "version": "3.6.4"
  }
 },
 "nbformat": 4,
 "nbformat_minor": 2
}
